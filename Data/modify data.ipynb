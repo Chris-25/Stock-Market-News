{
 "cells": [
  {
   "cell_type": "code",
   "execution_count": 86,
   "metadata": {},
   "outputs": [],
   "source": [
    "import pandas as pd"
   ]
  },
  {
   "cell_type": "code",
   "execution_count": 87,
   "metadata": {},
   "outputs": [],
   "source": [
    "import re"
   ]
  },
  {
   "cell_type": "code",
   "execution_count": 157,
   "metadata": {},
   "outputs": [],
   "source": [
    "fname = \"HNX Historical Data.csv\"\n",
    "fpath = \"./\" "
   ]
  },
  {
   "cell_type": "code",
   "execution_count": 158,
   "metadata": {},
   "outputs": [],
   "source": [
    "df = pd.read_csv(fpath+fname)"
   ]
  },
  {
   "cell_type": "code",
   "execution_count": 159,
   "metadata": {},
   "outputs": [
    {
     "data": {
      "text/html": [
       "<div>\n",
       "<style scoped>\n",
       "    .dataframe tbody tr th:only-of-type {\n",
       "        vertical-align: middle;\n",
       "    }\n",
       "\n",
       "    .dataframe tbody tr th {\n",
       "        vertical-align: top;\n",
       "    }\n",
       "\n",
       "    .dataframe thead th {\n",
       "        text-align: right;\n",
       "    }\n",
       "</style>\n",
       "<table border=\"1\" class=\"dataframe\">\n",
       "  <thead>\n",
       "    <tr style=\"text-align: right;\">\n",
       "      <th></th>\n",
       "      <th>Date</th>\n",
       "      <th>Price</th>\n",
       "      <th>Open</th>\n",
       "      <th>High</th>\n",
       "      <th>Low</th>\n",
       "      <th>Vol.</th>\n",
       "      <th>Change %</th>\n",
       "    </tr>\n",
       "  </thead>\n",
       "  <tbody>\n",
       "    <tr>\n",
       "      <th>0</th>\n",
       "      <td>May 08, 2020</td>\n",
       "      <td>110.02</td>\n",
       "      <td>108.31</td>\n",
       "      <td>110.79</td>\n",
       "      <td>107.20</td>\n",
       "      <td>62.01K</td>\n",
       "      <td>1.58%</td>\n",
       "    </tr>\n",
       "    <tr>\n",
       "      <th>1</th>\n",
       "      <td>May 07, 2020</td>\n",
       "      <td>108.31</td>\n",
       "      <td>106.65</td>\n",
       "      <td>108.36</td>\n",
       "      <td>106.58</td>\n",
       "      <td>37.46K</td>\n",
       "      <td>1.55%</td>\n",
       "    </tr>\n",
       "    <tr>\n",
       "      <th>2</th>\n",
       "      <td>May 06, 2020</td>\n",
       "      <td>106.66</td>\n",
       "      <td>105.37</td>\n",
       "      <td>106.66</td>\n",
       "      <td>104.78</td>\n",
       "      <td>51.29K</td>\n",
       "      <td>1.19%</td>\n",
       "    </tr>\n",
       "    <tr>\n",
       "      <th>3</th>\n",
       "      <td>May 05, 2020</td>\n",
       "      <td>105.41</td>\n",
       "      <td>105.68</td>\n",
       "      <td>106.15</td>\n",
       "      <td>105.11</td>\n",
       "      <td>26.21K</td>\n",
       "      <td>-0.29%</td>\n",
       "    </tr>\n",
       "    <tr>\n",
       "      <th>4</th>\n",
       "      <td>May 04, 2020</td>\n",
       "      <td>105.72</td>\n",
       "      <td>106.84</td>\n",
       "      <td>106.87</td>\n",
       "      <td>105.49</td>\n",
       "      <td>40.34K</td>\n",
       "      <td>-1.05%</td>\n",
       "    </tr>\n",
       "  </tbody>\n",
       "</table>\n",
       "</div>"
      ],
      "text/plain": [
       "           Date   Price    Open    High     Low    Vol. Change %\n",
       "0  May 08, 2020  110.02  108.31  110.79  107.20  62.01K    1.58%\n",
       "1  May 07, 2020  108.31  106.65  108.36  106.58  37.46K    1.55%\n",
       "2  May 06, 2020  106.66  105.37  106.66  104.78  51.29K    1.19%\n",
       "3  May 05, 2020  105.41  105.68  106.15  105.11  26.21K   -0.29%\n",
       "4  May 04, 2020  105.72  106.84  106.87  105.49  40.34K   -1.05%"
      ]
     },
     "execution_count": 159,
     "metadata": {},
     "output_type": "execute_result"
    }
   ],
   "source": [
    "df.head(5)"
   ]
  },
  {
   "cell_type": "code",
   "execution_count": 146,
   "metadata": {},
   "outputs": [],
   "source": [
    "df = df.rename(columns = {\"Date\": \"tradeDate\", \"Open\" : \"OpenPrice\"})"
   ]
  },
  {
   "cell_type": "code",
   "execution_count": 147,
   "metadata": {},
   "outputs": [],
   "source": [
    "df[\"Vol.\"] = df[\"Vol.\"].str.replace(r'-', '-1')"
   ]
  },
  {
   "cell_type": "code",
   "execution_count": null,
   "metadata": {},
   "outputs": [],
   "source": [
    "for i in range(len(df[\"Vol.\"])):\n",
    "    d = df[\"Vol.\"][i]\n",
    "    if d[-1:] == 'K':\n",
    "        d = float(d[:-1])\n",
    "        d *= 1000\n",
    "    elif d[-1] == 'M':\n",
    "        d = float(d[:-1])\n",
    "        d *= 1000000\n",
    "    df[\"Vol.\"][i] = d"
   ]
  },
  {
   "cell_type": "code",
   "execution_count": 149,
   "metadata": {},
   "outputs": [],
   "source": [
    "for i in df[\"Vol.\"]:\n",
    "    if type(i) != float:\n",
    "        print(i)"
   ]
  },
  {
   "cell_type": "code",
   "execution_count": 150,
   "metadata": {},
   "outputs": [],
   "source": [
    "df[\"Change %\"] = df[\"Change %\"].str.replace(r'%', '')"
   ]
  },
  {
   "cell_type": "code",
   "execution_count": 144,
   "metadata": {},
   "outputs": [
    {
     "data": {
      "text/html": [
       "<div>\n",
       "<style scoped>\n",
       "    .dataframe tbody tr th:only-of-type {\n",
       "        vertical-align: middle;\n",
       "    }\n",
       "\n",
       "    .dataframe tbody tr th {\n",
       "        vertical-align: top;\n",
       "    }\n",
       "\n",
       "    .dataframe thead th {\n",
       "        text-align: right;\n",
       "    }\n",
       "</style>\n",
       "<table border=\"1\" class=\"dataframe\">\n",
       "  <thead>\n",
       "    <tr style=\"text-align: right;\">\n",
       "      <th></th>\n",
       "      <th>Price</th>\n",
       "      <th>Open</th>\n",
       "      <th>High</th>\n",
       "      <th>Low</th>\n",
       "    </tr>\n",
       "  </thead>\n",
       "  <tbody>\n",
       "    <tr>\n",
       "      <th>count</th>\n",
       "      <td>3608.000000</td>\n",
       "      <td>3608.000000</td>\n",
       "      <td>3608.000000</td>\n",
       "      <td>3608.000000</td>\n",
       "    </tr>\n",
       "    <tr>\n",
       "      <th>mean</th>\n",
       "      <td>122.385751</td>\n",
       "      <td>122.506375</td>\n",
       "      <td>123.964994</td>\n",
       "      <td>120.954606</td>\n",
       "    </tr>\n",
       "    <tr>\n",
       "      <th>std</th>\n",
       "      <td>71.157482</td>\n",
       "      <td>71.341244</td>\n",
       "      <td>72.783283</td>\n",
       "      <td>69.956581</td>\n",
       "    </tr>\n",
       "    <tr>\n",
       "      <th>min</th>\n",
       "      <td>50.660000</td>\n",
       "      <td>50.630000</td>\n",
       "      <td>50.890000</td>\n",
       "      <td>50.320000</td>\n",
       "    </tr>\n",
       "    <tr>\n",
       "      <th>25%</th>\n",
       "      <td>80.222500</td>\n",
       "      <td>80.140000</td>\n",
       "      <td>80.677500</td>\n",
       "      <td>79.625000</td>\n",
       "    </tr>\n",
       "    <tr>\n",
       "      <th>50%</th>\n",
       "      <td>101.575000</td>\n",
       "      <td>101.435000</td>\n",
       "      <td>102.415000</td>\n",
       "      <td>100.390000</td>\n",
       "    </tr>\n",
       "    <tr>\n",
       "      <th>75%</th>\n",
       "      <td>135.412500</td>\n",
       "      <td>135.340000</td>\n",
       "      <td>137.005000</td>\n",
       "      <td>133.530000</td>\n",
       "    </tr>\n",
       "    <tr>\n",
       "      <th>max</th>\n",
       "      <td>459.360000</td>\n",
       "      <td>464.790000</td>\n",
       "      <td>470.190000</td>\n",
       "      <td>451.170000</td>\n",
       "    </tr>\n",
       "  </tbody>\n",
       "</table>\n",
       "</div>"
      ],
      "text/plain": [
       "             Price         Open         High          Low\n",
       "count  3608.000000  3608.000000  3608.000000  3608.000000\n",
       "mean    122.385751   122.506375   123.964994   120.954606\n",
       "std      71.157482    71.341244    72.783283    69.956581\n",
       "min      50.660000    50.630000    50.890000    50.320000\n",
       "25%      80.222500    80.140000    80.677500    79.625000\n",
       "50%     101.575000   101.435000   102.415000   100.390000\n",
       "75%     135.412500   135.340000   137.005000   133.530000\n",
       "max     459.360000   464.790000   470.190000   451.170000"
      ]
     },
     "execution_count": 144,
     "metadata": {},
     "output_type": "execute_result"
    }
   ],
   "source": [
    "df.describe()"
   ]
  },
  {
   "cell_type": "code",
   "execution_count": 152,
   "metadata": {},
   "outputs": [],
   "source": [
    "df.to_csv(fpath + fname[:-4] + \" edited.csv\", index=False)"
   ]
  },
  {
   "cell_type": "code",
   "execution_count": null,
   "metadata": {},
   "outputs": [],
   "source": []
  }
 ],
 "metadata": {
  "kernelspec": {
   "display_name": "Python 3",
   "language": "python",
   "name": "python3"
  },
  "language_info": {
   "codemirror_mode": {
    "name": "ipython",
    "version": 3
   },
   "file_extension": ".py",
   "mimetype": "text/x-python",
   "name": "python",
   "nbconvert_exporter": "python",
   "pygments_lexer": "ipython3",
   "version": "3.7.7"
  }
 },
 "nbformat": 4,
 "nbformat_minor": 4
}
